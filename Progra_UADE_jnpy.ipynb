{
  "cells": [
    {
      "cell_type": "markdown",
      "metadata": {
        "colab_type": "text",
        "id": "view-in-github"
      },
      "source": [
        "<a href=\"https://colab.research.google.com/github/Lucas303030/UADE_Progra1/blob/main/Progra_UADE_jnpy.ipynb\" target=\"_parent\"><img src=\"https://colab.research.google.com/assets/colab-badge.svg\" alt=\"Open In Colab\"/></a>"
      ]
    },
    {
      "cell_type": "code",
      "execution_count": 99,
      "metadata": {
        "id": "QWGjKqy342E9"
      },
      "outputs": [],
      "source": [
        "import csv\n",
        "import os\n",
        "import random\n",
        "# import pandas\n",
        "from tabulate import tabulate\n",
        "import datetime\n",
        "from barcode import EAN13\n"
      ]
    },
    {
      "cell_type": "code",
      "execution_count": 100,
      "metadata": {},
      "outputs": [],
      "source": [
        "def actualizar_clientes():\n",
        "    with open(\"clientes.csv\",\"r+\") as archivo:\n",
        "        puntero = csv.reader(archivo)\n",
        "        for linea in puntero:\n",
        "            if linea[0] == \"1\":\n",
        "                linea [2] = \"Holis\""
      ]
    },
    {
      "cell_type": "code",
      "execution_count": 101,
      "metadata": {},
      "outputs": [],
      "source": [
        "def rnm_num():\n",
        "    return ''.join([str(random.randint(0, 9)) for i in range(13)])"
      ]
    },
    {
      "cell_type": "code",
      "execution_count": 102,
      "metadata": {},
      "outputs": [],
      "source": [
        "def timestamp():\n",
        "    modificado = datetime.datetime.now()\n",
        "    return modificado"
      ]
    },
    {
      "cell_type": "code",
      "execution_count": 103,
      "metadata": {},
      "outputs": [],
      "source": [
        "def buscar_max(archivo):\n",
        "    list_id = []\n",
        "    try:\n",
        "        with open(archivo, \"r\") as archivo:\n",
        "            puntero = csv.DictReader(archivo)\n",
        "            for line in puntero:\n",
        "                list_id.append(line[\"id\"])\n",
        "            print(list_id)\n",
        "            if len(list_id) != 0:\n",
        "                maximo = int(max(list_id)) + 1\n",
        "                return maximo\n",
        "            else:\n",
        "                return \"1\"\n",
        "    except FileNotFoundError as error:\n",
        "        print(\"No se puede leer el archivo\")\n",
        "        return \"1\""
      ]
    },
    {
      "cell_type": "code",
      "execution_count": 104,
      "metadata": {},
      "outputs": [],
      "source": [
        "def validar_dni():\n",
        "    while True:\n",
        "        dni = input(\"Ingrese DNI de cliente (Enter para omitir): \")\n",
        "        if dni.strip() == \"\":\n",
        "            return None  # Si el usuario presiona Enter, retorna None\n",
        "        elif dni.isnumeric() and len(dni) == 8:\n",
        "            return dni  # DNI válido, se retorna el valor ingresado\n",
        "        else:\n",
        "            print(\"DNI inválido. Debe contener exactamente 8 dígitos numéricos.\")\n"
      ]
    },
    {
      "cell_type": "code",
      "execution_count": 105,
      "metadata": {
        "id": "cWyrZ_AK0XAR"
      },
      "outputs": [],
      "source": [
        "def ing_cliente():\n",
        "    id_cliente = buscar_max(\"clientes.txt\")\n",
        "    nombre_cliente = input(\"Ingrese nombre de cliente: \").capitalize()\n",
        "    apellido_cliente = input(\"Ingrese apellido de cliente: \").capitalize()\n",
        "    dni = validar_dni()\n",
        "\n",
        "    cliente = {\n",
        "        \"id\": id_cliente,\n",
        "        \"nombre\": nombre_cliente,\n",
        "        \"apellido\": apellido_cliente,\n",
        "        \"dni\": dni,\n",
        "        \"creado\": timestamp(),\n",
        "        \"modificado\": timestamp()\n",
        "    }\n",
        "\n",
        "    data_cliente = f\"{cliente['id']},{cliente['nombre']},{cliente['apellido']},{cliente['dni']},{cliente['creado']},{cliente['modificado']}\\n\"\n",
        "\n",
        "    try:\n",
        "        with open(\"clientes.txt\", \"a\") as archivo:\n",
        "            archivo.write(data_cliente)\n",
        "        print(\"Registro guardado\")\n",
        "    except Exception as error:\n",
        "        print(\"Ocurrió un error al escribir en el archivo:\", error)"
      ]
    },
    {
      "cell_type": "code",
      "execution_count": 106,
      "metadata": {
        "id": "XtRF_7rZ3p5s"
      },
      "outputs": [],
      "source": [
        "def ing_proveedor():\n",
        "  nombre_proveedor = input(\"Ingrese nombre de proveedor: \")\n",
        "  pass"
      ]
    },
    {
      "cell_type": "code",
      "execution_count": 107,
      "metadata": {
        "id": "pzJ-h-4T4QRd"
      },
      "outputs": [],
      "source": [
        "def ing_prod_valor():\n",
        "  valor_prod = float(input(\"Ingrese precio: \"))\n",
        "  pass"
      ]
    },
    {
      "cell_type": "code",
      "execution_count": 108,
      "metadata": {
        "id": "yP7febVa4dJD"
      },
      "outputs": [],
      "source": [
        "def ing_prod_cant():\n",
        "  id = buscar_max(\"productos.txt\")\n",
        "  sku_prod = rnm_num()\n",
        "  producto = input(\"Ingrese SKU: \").upper()\n",
        "  cant_prod = input(\"Ingrese cantidad: \")\n",
        "  productos = {\"id\": id, \"sku\": sku_prod, \"producto\": producto, \"cantidad\": cant_prod}\n",
        "\n",
        "  data_productos = f\"{productos['id']},{productos['sku']},{productos['producto']},{productos['cantidad']}\\n\"\n",
        "\n",
        "  try:\n",
        "      with open(\"´productos.txt\", \"a\") as archivo:\n",
        "          archivo.write(data_productos)\n",
        "      print(\"Registro guardado\")\n",
        "  except Exception as error:\n",
        "      print(\"Ocurrió un error al escribir en el archivo:\", error)"
      ]
    },
    {
      "cell_type": "code",
      "execution_count": 109,
      "metadata": {},
      "outputs": [],
      "source": [
        "def listar_clientes():\n",
        "    tabla = []\n",
        "    encabezado = [\"id\", \"nombre\", \"apellido\"]\n",
        "    with open(\"clientes.csv\", \"r\") as archivo:\n",
        "        lector = csv.reader(archivo)\n",
        "        for linea in lector:\n",
        "            tabla.append(linea)\n",
        "\n",
        "    print(f\"\\n{tabulate(tabla, headers='firstrow',tablefmt='presto')}\\n\")\n",
        "    "
      ]
    },
    {
      "cell_type": "code",
      "execution_count": 110,
      "metadata": {},
      "outputs": [],
      "source": [
        "def listar_productos():\n",
        "    tabla = []\n",
        "    with open(\"productos.txt\", \"r\") as archivo:\n",
        "        for linea in archivo:\n",
        "            tabla.append(linea)\n",
        "\n",
        "    print(f\"\\n{tabulate(tabla, headers='firstrow',tablefmt='presto')}\\n\")"
      ]
    },
    {
      "cell_type": "code",
      "execution_count": 111,
      "metadata": {
        "id": "K_T1J4K1OnPD"
      },
      "outputs": [],
      "source": [
        "def main_menu():\n",
        "\n",
        "    os.system(\"cls\")\n",
        "\n",
        "    opciones_main = [\n",
        "        \"1- Ingresar cliente\",\n",
        "        \"2- Ingresar proveedor\",\n",
        "        \"3- Ingresar precio de producto\",\n",
        "        \"4- Listar clientes\",\n",
        "        \"5- Listar productos\",\n",
        "        \"6- Ingresar producto\",\n",
        "        \"7- Actualizar proveedores\",\n",
        "    ]\n",
        "\n",
        "    for opcion in opciones_main:\n",
        "        print(opcion)\n",
        "\n",
        "    while True:\n",
        "        try:\n",
        "            choice = int(input(\"Seleccione una opción (1-7): \"))\n",
        "\n",
        "            if 1 <= choice <= 7:\n",
        "                break\n",
        "            else:\n",
        "                print(\"Opción fuera de rango. Seleccione una opción válida (1-7).\")\n",
        "        except ValueError:\n",
        "            print(\"Entrada inválida. Ingrese un número del 1 al 7.\")\n",
        "\n",
        "    if choice == 1:\n",
        "        ing_cliente()\n",
        "    elif choice == 2:\n",
        "        ing_proveedor()\n",
        "    elif choice == 3:\n",
        "        ing_prod_valor()\n",
        "    elif choice == 4:\n",
        "        listar_clientes()\n",
        "    elif choice == 5:\n",
        "        try:\n",
        "            with open(\"productos.csv\", \"r\") as archivo:\n",
        "                listar_productos()\n",
        "        except FileNotFoundError as error:\n",
        "            print(\"No se encuentra el archivo\")\n",
        "    elif choice == 6:\n",
        "        ing_prod_cant()\n",
        "        pass\n",
        "    elif choice == 7:\n",
        "        actualizar_clientes()\n",
        "    else:\n",
        "        print(\"Opción no válida\")\n"
      ]
    },
    {
      "cell_type": "code",
      "execution_count": 112,
      "metadata": {
        "id": "pPFMuktdOwUu"
      },
      "outputs": [
        {
          "name": "stdout",
          "output_type": "stream",
          "text": [
            "1- Ingresar cliente\n",
            "2- Ingresar proveedor\n",
            "3- Ingresar precio de producto\n",
            "4- Listar clientes\n",
            "5- Listar productos\n",
            "6- Ingresar producto\n",
            "7- Actualizar proveedores\n",
            "No se encuentra el archivo\n"
          ]
        }
      ],
      "source": [
        "main_menu()"
      ]
    }
  ],
  "metadata": {
    "colab": {
      "authorship_tag": "ABX9TyPGIlsz/xxwlSGYDDmgQwcO",
      "include_colab_link": true,
      "provenance": []
    },
    "kernelspec": {
      "display_name": "Python 3",
      "name": "python3"
    },
    "language_info": {
      "codemirror_mode": {
        "name": "ipython",
        "version": 3
      },
      "file_extension": ".py",
      "mimetype": "text/x-python",
      "name": "python",
      "nbconvert_exporter": "python",
      "pygments_lexer": "ipython3",
      "version": "3.8.8"
    }
  },
  "nbformat": 4,
  "nbformat_minor": 0
}
