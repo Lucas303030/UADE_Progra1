{
  "cells": [
    {
      "cell_type": "markdown",
      "metadata": {
        "colab_type": "text",
        "id": "view-in-github"
      },
      "source": [
        "<a href=\"https://colab.research.google.com/github/Lucas303030/UADE_Progra1/blob/main/Progra_UADE_jnpy.ipynb\" target=\"_parent\"><img src=\"https://colab.research.google.com/assets/colab-badge.svg\" alt=\"Open In Colab\"/></a>"
      ]
    },
    {
      "cell_type": "code",
      "execution_count": null,
      "metadata": {
        "id": "QWGjKqy342E9"
      },
      "outputs": [],
      "source": [
        "import csv\n",
        "import os\n",
        "import random\n",
        "# import pandas\n",
        "from tabulate import tabulate\n",
        "import datetime\n",
        "from barcode import EAN13"
      ]
    },
    {
      "cell_type": "code",
      "execution_count": null,
      "metadata": {},
      "outputs": [],
      "source": [
        "def rnm_num():\n",
        "    return ''.join([str(random.randint(0, 9)) for _ in range(13)])"
      ]
    },
    {
      "cell_type": "code",
      "execution_count": null,
      "metadata": {},
      "outputs": [],
      "source": [
        "def timestamp():\n",
        "    modificado = datetime.datetime.now()\n",
        "    return modificado"
      ]
    },
    {
      "cell_type": "code",
      "execution_count": null,
      "metadata": {},
      "outputs": [],
      "source": [
        "def buscar_max(archivo):\n",
        "    list_id = []\n",
        "    try:\n",
        "        with open(archivo, \"r\") as archivo:\n",
        "            puntero = csv.DictReader(archivo)\n",
        "            for line in puntero:\n",
        "                list_id.append(line[\"id\"])\n",
        "            print(list_id)\n",
        "            if len(list_id) != 0:\n",
        "                maximo = int(max(list_id)) + 1\n",
        "                return maximo\n",
        "            else:\n",
        "                return \"1\"\n",
        "    except FileNotFoundError as error:\n",
        "        print(\"No se puede leer el archivo\")\n",
        "        return \"1\""
      ]
    },
    {
      "cell_type": "code",
      "execution_count": null,
      "metadata": {},
      "outputs": [],
      "source": [
        "def validar_dni():\n",
        "    dni = input(\"Ingrese DNI de cliente (Enter para omitir): \")\n",
        "    while not dni.isnumeric() and dni.strip() != \"\":\n",
        "        dni = input(\"Ingrese DNI de cliente: \")\n",
        "    return dni"
      ]
    },
    {
      "cell_type": "code",
      "execution_count": null,
      "metadata": {
        "id": "cWyrZ_AK0XAR"
      },
      "outputs": [],
      "source": [
        "def ing_cliente(): # Carga en archivo CSV\n",
        "  id_cliente = buscar_max(\"clientes.csv\")\n",
        "  nombre_cliente = input(\"Ingrese nombre de cliente: \").capitalize()\n",
        "  apellido_cliente = input(\"Ingrese apellido de cliente: \").capitalize()\n",
        "  dni = validar_dni()\n",
        "\n",
        "  # Diccionario que se inserta en cada linea de archivo clientes.csv\n",
        "\n",
        "  cliente = {\"id\": id_cliente, \n",
        "             \"nombre\": nombre_cliente, \n",
        "             \"apellido\": apellido_cliente, \n",
        "             \"dni\": dni,\n",
        "             \"creado\": timestamp(), \n",
        "             \"modificado\": timestamp()}\n",
        "  \n",
        "  encabezado = [\"id\", \"nombre\", \"apellido\", \"dni\", \"creado\", \"modificado\"]\n",
        "  \n",
        "  try:\n",
        "    with open('clientes.csv', 'r', newline=\"\") as archivo:\n",
        "      \"\"\"   \n",
        "      lector = csv.reader(archivo)   \n",
        "      for linea in lector:   \n",
        "        print(linea)   \n",
        "      \"\"\"     \n",
        "      pass\n",
        "\n",
        "  except FileNotFoundError as error: # Si no existe, se crea archivo clientes\n",
        "    # os.system(\"cls\")\n",
        "    print(\"\\nEl archivo no existe, se crea nuevo\\n\")\n",
        "    \n",
        "    # print(error)\n",
        "\n",
        "    with open(\"clientes.csv\", \"w\", newline=\"\") as archivo:\n",
        "      puntero = csv.DictWriter(archivo, fieldnames=encabezado)\n",
        "      puntero.writeheader()\n",
        "\n",
        "  try:\n",
        "    with open(\"clientes.csv\", \"a\", newline=\"\") as archivo:\n",
        "      puntero = csv.DictWriter(archivo, fieldnames=encabezado)\n",
        "      puntero.writerow(cliente)\n",
        "      print(\"Registro guardado\")\n",
        "      \n",
        "  except Exception as error:\n",
        "    print(\"Ocurrió un error al escribir en el archivo CSV:\", error) "
      ]
    },
    {
      "cell_type": "code",
      "execution_count": null,
      "metadata": {
        "id": "XtRF_7rZ3p5s"
      },
      "outputs": [],
      "source": [
        "def ing_proveedor():\n",
        "  nombre_proveedor = input(\"Ingrese nombre de proveedor: \")\n",
        "  pass"
      ]
    },
    {
      "cell_type": "code",
      "execution_count": null,
      "metadata": {
        "id": "pzJ-h-4T4QRd"
      },
      "outputs": [],
      "source": [
        "def ing_prod_valor():\n",
        "  valor_prod = float(input(\"Ingrese precio: \"))\n",
        "  pass"
      ]
    },
    {
      "cell_type": "code",
      "execution_count": null,
      "metadata": {
        "id": "yP7febVa4dJD"
      },
      "outputs": [],
      "source": [
        "def ing_prod_cant():\n",
        "  encabezado = [\"id\",\"sku\", \"producto\", \"cantidad\"]\n",
        "  id = buscar_max(\"productos.csv\")\n",
        "  sku_prod = rnm_num()\n",
        "  producto = input(\"Ingrese SKU: \").upper()\n",
        "  cant_prod = input(\"Ingrese cantidad: \")\n",
        "  productos = {\"id\": id, \"sku\": sku_prod, \"producto\": producto, \"cantidad\": cant_prod}\n",
        "\n",
        "  # Genera Codigo de Barras en ./barcodes\n",
        "\n",
        "  ean = EAN13(sku_prod)\n",
        "  ean.save(\"./barcodes/\"f\"{sku_prod}_barcode\")\n",
        "\n",
        "  try:\n",
        "    with open(\"productos.csv\", \"r\") as archivo:\n",
        "      \"\"\"lector = csv.reader(archivo)\n",
        "      for linea in lector:\n",
        "        print (linea)\"\"\"\n",
        "  except FileNotFoundError as error:\n",
        "    with open(\"productos.csv\", \"w\", newline=\"\") as archivo:\n",
        "      puntero = csv.DictWriter(archivo, fieldnames=encabezado)\n",
        "      puntero.writeheader()\n",
        "  with open(\"productos.csv\", \"a\", newline=\"\") as archivo:\n",
        "    puntero = csv.DictWriter(archivo, fieldnames=encabezado)\n",
        "    puntero.writerow(productos)"
      ]
    },
    {
      "cell_type": "code",
      "execution_count": null,
      "metadata": {},
      "outputs": [],
      "source": [
        "def listar_clientes():\n",
        "    tabla = []\n",
        "    encabezado = [\"id\", \"nombre\", \"apellido\"]\n",
        "    with open(\"clientes.csv\", \"r\") as archivo:\n",
        "        lector = csv.reader(archivo)\n",
        "        for linea in lector:\n",
        "            tabla.append(linea)\n",
        "\n",
        "    print(f\"\\n{tabulate(tabla, headers='firstrow',tablefmt='presto')}\\n\")\n",
        "    "
      ]
    },
    {
      "cell_type": "code",
      "execution_count": null,
      "metadata": {},
      "outputs": [],
      "source": [
        "def listar_productos():\n",
        "    tabla = []\n",
        "    encabezado = [\"id\",\"sku\", \"producto\", \"cantidad\"]\n",
        "    with open(\"productos.csv\", \"r\") as archivo:\n",
        "        lector = csv.reader(archivo)\n",
        "        for linea in lector:\n",
        "            tabla.append(linea)\n",
        "\n",
        "    print(f\"\\n{tabulate(tabla, headers='firstrow',tablefmt='presto')}\\n\")"
      ]
    },
    {
      "cell_type": "code",
      "execution_count": null,
      "metadata": {
        "id": "K_T1J4K1OnPD"
      },
      "outputs": [],
      "source": [
        "def main_menu():\n",
        "\n",
        "    os.system(\"cls\")\n",
        "\n",
        "    opciones_main = [\n",
        "        \"1- Ingresar cliente\",\n",
        "        \"2- Ingresar proveedor\",\n",
        "        \"3- Ingresar precio de producto\",\n",
        "        \"4- Listar clientes\",\n",
        "        \"5- Ingresar producto\",\n",
        "        \"6- Actualizar stock\",\n",
        "        \"7- Actualizar proveedores\",\n",
        "    ]\n",
        "\n",
        "    for opcion in opciones_main:\n",
        "        print(opcion)\n",
        "\n",
        "    while True:\n",
        "        try:\n",
        "            choice = int(input(\"Seleccione una opción (1-7): \"))\n",
        "\n",
        "            if 1 <= choice <= 7:\n",
        "                break\n",
        "            else:\n",
        "                print(\"Opción fuera de rango. Seleccione una opción válida (1-7).\")\n",
        "        except ValueError:\n",
        "            print(\"Entrada inválida. Ingrese un número del 1 al 7.\")\n",
        "\n",
        "    if choice == 1:\n",
        "        ing_cliente()\n",
        "    elif choice == 2:\n",
        "        ing_proveedor()\n",
        "    elif choice == 3:\n",
        "        ing_prod_valor()\n",
        "    elif choice == 4:\n",
        "        listar_clientes()\n",
        "    elif choice == 5:\n",
        "        listar_productos()\n",
        "    elif choice == 6:\n",
        "        ing_prod_cant()\n",
        "        pass\n",
        "    elif choice == 7:\n",
        "        pass\n",
        "    else:\n",
        "        print(\"Opción no válida\")\n"
      ]
    },
    {
      "cell_type": "code",
      "execution_count": null,
      "metadata": {
        "id": "pPFMuktdOwUu"
      },
      "outputs": [],
      "source": [
        "main_menu()"
      ]
    }
  ],
  "metadata": {
    "colab": {
      "authorship_tag": "ABX9TyPGIlsz/xxwlSGYDDmgQwcO",
      "include_colab_link": true,
      "provenance": []
    },
    "kernelspec": {
      "display_name": "Python 3",
      "name": "python3"
    },
    "language_info": {
      "codemirror_mode": {
        "name": "ipython",
        "version": 3
      },
      "file_extension": ".py",
      "mimetype": "text/x-python",
      "name": "python",
      "nbconvert_exporter": "python",
      "pygments_lexer": "ipython3",
      "version": "3.8.8"
    }
  },
  "nbformat": 4,
  "nbformat_minor": 0
}
