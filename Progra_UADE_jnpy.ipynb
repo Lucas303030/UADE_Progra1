{
  "cells": [
    {
      "cell_type": "markdown",
      "metadata": {
        "colab_type": "text",
        "id": "view-in-github"
      },
      "source": [
        "<a href=\"https://colab.research.google.com/github/Lucas303030/UADE_Progra1/blob/main/Progra_UADE_jnpy.ipynb\" target=\"_parent\"><img src=\"https://colab.research.google.com/assets/colab-badge.svg\" alt=\"Open In Colab\"/></a>"
      ]
    },
    {
      "cell_type": "code",
      "execution_count": null,
      "metadata": {
        "id": "QWGjKqy342E9"
      },
      "outputs": [],
      "source": [
        "import os\n",
        "import random\n",
        "# import pandas\n",
        "from tabulate import tabulate\n",
        "import datetime\n",
        "from barcode import EAN13\n"
      ]
    },
    {
      "cell_type": "code",
      "execution_count": null,
      "metadata": {},
      "outputs": [],
      "source": [
        "# Borra clientes o productos (ARCHIVO - TODOS LOS REGISTROS)\n",
        "def eliminar_archivo(ruta):\n",
        "    if os.path.exists(ruta):\n",
        "        confirmacion = input(f\"Ingresar nombre de archivo para confirmar: ({ruta})\")\n",
        "        if ruta == confirmacion:\n",
        "            os.remove(ruta)\n",
        "            print(f\"El archivo {ruta} ha sido eliminado.\")\n",
        "        else: \n",
        "            print(\"Cancelado\")\n",
        "            return \"\"\n",
        "    else:\n",
        "        print(f\"No se encuentra el archivo {ruta}.\")"
      ]
    },
    {
      "cell_type": "code",
      "execution_count": null,
      "metadata": {},
      "outputs": [],
      "source": [
        "def listar_clientes():\n",
        "    \n",
        "    try:\n",
        "        tabla = []\n",
        "        with open(\"clientes.txt\", \"r\") as archivo:\n",
        "            for linea in archivo:\n",
        "                palabra = linea.split(\",\")\n",
        "                tabla.append(palabra)\n",
        "\n",
        "        print(f\"\\n{tabulate(tabla, headers=['id', 'mombre', 'apellido', 'creado', 'modificado'],tablefmt='presto')}\\n\")\n",
        "    except FileNotFoundError as error:\n",
        "        print (\"No se puede abrir el archivo\", error)"
      ]
    },
    {
      "cell_type": "code",
      "execution_count": null,
      "metadata": {},
      "outputs": [],
      "source": [
        "def timestamp():\n",
        "    modificado = datetime.datetime.now()\n",
        "    return modificado"
      ]
    },
    {
      "cell_type": "code",
      "execution_count": null,
      "metadata": {},
      "outputs": [],
      "source": [
        "def borrar_registro_clientes():\n",
        "    registro = input(\"Seleccionar registro a eliminar: \")\n",
        "\n",
        "    with open(\"clientes.txt\", 'r') as archivo:\n",
        "        lineas = archivo.readlines()\n",
        "\n",
        "    with open(\"clientes.txt\", 'w') as archivo:\n",
        "        encontrado = False\n",
        "        for linea in lineas:\n",
        "            if not linea[0] == registro:\n",
        "                archivo.write(linea)\n",
        "            else:\n",
        "                encontrado = True\n",
        "\n",
        "        if encontrado:\n",
        "            print(f\"Registro '{registro}' eliminado con éxito.\")\n",
        "        else:\n",
        "            print(f\"Registro '{registro}' no encontrado en el archivo.\")"
      ]
    },
    {
      "cell_type": "code",
      "execution_count": null,
      "metadata": {},
      "outputs": [],
      "source": [
        "def editar_cliente(id_cliente, nuevo_nombre, nuevo_apellido, nuevo_dni):\n",
        "\n",
        "    with open(\"clientes.txt\", \"r\") as archivo:\n",
        "        lineas = archivo.readlines()\n",
        "\n",
        "    encontrado = False\n",
        "\n",
        "    with open(\"clientes.txt\", \"w\") as archivo:\n",
        "\n",
        "        for linea in lineas:\n",
        "            datos = linea.strip().split(',')\n",
        "            if datos[0] == id_cliente:\n",
        "                # Editar los campos del cliente\n",
        "                datos[1] = nuevo_nombre\n",
        "                datos[2] = nuevo_apellido\n",
        "                datos[3] = nuevo_dni\n",
        "                datos[-1] = str(timestamp()) \n",
        "                nueva_linea = ','.join(datos) + '\\n'\n",
        "                archivo.write(nueva_linea)\n",
        "                encontrado = True\n",
        "            else:\n",
        "                archivo.write(linea)\n",
        "\n",
        "    if encontrado:\n",
        "        print(\"\\nCliente editado con éxito.\\n\")\n",
        "    else:\n",
        "        print(f\"No se encontró un cliente con el ID {id_cliente}.\")\n"
      ]
    },
    {
      "cell_type": "code",
      "execution_count": null,
      "metadata": {},
      "outputs": [],
      "source": [
        "def rnm_num():\n",
        "    return ''.join([str(random.randint(0, 9)) for i in range(13)])"
      ]
    },
    {
      "cell_type": "code",
      "execution_count": null,
      "metadata": {},
      "outputs": [],
      "source": [
        "def buscar_max(archivo):\n",
        "    list_id = []\n",
        "    try:\n",
        "        with open(archivo, \"r\") as archivo:\n",
        "            for line in archivo:\n",
        "                list_id.append(line[0])\n",
        "            print(list_id)\n",
        "            if len(list_id) != 0:\n",
        "                maximo = int(max(list_id)) + 1\n",
        "                return maximo\n",
        "    except FileNotFoundError as error:\n",
        "        print(\"No se puede leer el archivo\")\n",
        "        return \"1\""
      ]
    },
    {
      "cell_type": "code",
      "execution_count": null,
      "metadata": {},
      "outputs": [],
      "source": [
        "def validar_dni():\n",
        "    while True:\n",
        "        dni = input(\"Ingrese DNI de cliente (Enter para omitir): \")\n",
        "        if dni.strip() == \"\":\n",
        "            return None \n",
        "        elif dni.isnumeric() and len(dni) == 8:\n",
        "            return dni\n",
        "        else:\n",
        "            print(\"DNI inválido. Debe contener exactamente 8 dígitos numéricos.\")"
      ]
    },
    {
      "cell_type": "code",
      "execution_count": null,
      "metadata": {
        "id": "cWyrZ_AK0XAR"
      },
      "outputs": [],
      "source": [
        "def ing_cliente():\n",
        "    id_cliente = buscar_max(\"clientes.txt\")\n",
        "    nombre_cliente = input(\"Ingrese nombre de cliente: \").capitalize()\n",
        "    apellido_cliente = input(\"Ingrese apellido de cliente: \").capitalize()\n",
        "    dni = validar_dni()\n",
        "\n",
        "    cliente = {\n",
        "        \"id\": id_cliente,\n",
        "        \"nombre\": nombre_cliente,\n",
        "        \"apellido\": apellido_cliente,\n",
        "        \"dni\": dni,\n",
        "        \"creado\": timestamp(),\n",
        "        \"modificado\": timestamp()\n",
        "    }\n",
        "\n",
        "    data_cliente = f\"{cliente['id']},{cliente['nombre']},{cliente['apellido']},{cliente['dni']},{cliente['creado']},{cliente['modificado']}\\n\"\n",
        "\n",
        "    try:\n",
        "        with open(\"clientes.txt\", \"a\") as archivo:\n",
        "            archivo.write(data_cliente)\n",
        "        print(\"Registro guardado\")\n",
        "    except Exception as error:\n",
        "        print(\"Ocurrió un error al escribir en el archivo:\", error)"
      ]
    },
    {
      "cell_type": "code",
      "execution_count": null,
      "metadata": {
        "id": "XtRF_7rZ3p5s"
      },
      "outputs": [],
      "source": [
        "def ing_proveedor():\n",
        "  nombre_proveedor = input(\"Ingrese nombre de proveedor: \")\n",
        "  pass"
      ]
    },
    {
      "cell_type": "code",
      "execution_count": null,
      "metadata": {
        "id": "pzJ-h-4T4QRd"
      },
      "outputs": [],
      "source": [
        "def ing_prod_valor():\n",
        "  valor_prod = float(input(\"Ingrese precio: \"))\n",
        "  pass"
      ]
    },
    {
      "cell_type": "code",
      "execution_count": null,
      "metadata": {
        "id": "yP7febVa4dJD"
      },
      "outputs": [],
      "source": [
        "def ing_prod_cant():\n",
        "  id = buscar_max(\"productos.txt\")\n",
        "  sku_prod = rnm_num()\n",
        "  producto = input(\"Ingrese SKU: \").upper()\n",
        "  cant_prod = input(\"Ingrese cantidad: \")\n",
        "  productos = {\"id\": id, \"sku\": sku_prod, \"producto\": producto, \"cantidad\": cant_prod}\n",
        "\n",
        "  data_productos = f\"{productos['id']},{productos['sku']},{productos['producto']},{productos['cantidad']}\\n\"\n",
        "\n",
        "  try:\n",
        "      with open(\"productos.txt\", \"a\") as archivo:\n",
        "          archivo.write(data_productos)\n",
        "      print(\"Registro guardado\")\n",
        "  except Exception as error:\n",
        "      print(\"Ocurrió un error al escribir en el archivo:\", error)"
      ]
    },
    {
      "cell_type": "code",
      "execution_count": null,
      "metadata": {},
      "outputs": [],
      "source": [
        "def listar_productos():\n",
        "    tabla = []\n",
        "    with open(\"productos.txt\", \"r\") as archivo:\n",
        "        for linea in archivo:\n",
        "            palabra = linea.split(\",\")\n",
        "            tabla.append(palabra)\n",
        "\n",
        "    print(f\"\\n{tabulate(tabla, headers=['ID','SKU','Producto','Cantidad'],tablefmt='presto')}\\n\")"
      ]
    },
    {
      "cell_type": "code",
      "execution_count": null,
      "metadata": {
        "id": "K_T1J4K1OnPD"
      },
      "outputs": [],
      "source": [
        "def main_menu():\n",
        "\n",
        "    os.system(\"cls\")\n",
        "\n",
        "    opciones_main = [\n",
        "        \"1- Ingresar cliente\",\n",
        "        \"2- Ingresar proveedor\",\n",
        "        \"3- Actualizar precios de productos\",\n",
        "        \"4- Listar clientes\",\n",
        "        \"5- Listar productos\",\n",
        "        \"6- Ingresar producto\",\n",
        "        \"7- Actualizar clientes\",\n",
        "        \"8- Borrar registro clientes\",\n",
        "        \"9- Borrar todos los productos\",\n",
        "        \"10- Borrar todos los clientes\"\n",
        "    ]\n",
        "\n",
        "    for opcion in opciones_main:\n",
        "        print(opcion)\n",
        "\n",
        "    while True:\n",
        "        try:\n",
        "            choice = int(input(\"Seleccione una opción (1-10): \"))\n",
        "\n",
        "            if 1 <= choice <= 10:\n",
        "                break\n",
        "            else:\n",
        "                print(\"Opción fuera de rango. Seleccione una opción válida (1-10).\")\n",
        "        except ValueError:\n",
        "            print(\"Entrada inválida. Ingrese un número del 1 al 10.\")\n",
        "\n",
        "    if choice == 1:\n",
        "        ing_cliente()\n",
        "    elif choice == 2:\n",
        "        ing_proveedor()\n",
        "    elif choice == 3:\n",
        "        ing_prod_valor()\n",
        "    elif choice == 4:\n",
        "        listar_clientes()\n",
        "    elif choice == 5:\n",
        "        listar_productos()\n",
        "    elif choice == 6:\n",
        "        ing_prod_cant()\n",
        "        pass\n",
        "    elif choice == 7:\n",
        "        listar_clientes()\n",
        "        id_busqueda = input(\"Ingrese ID a editar: \")\n",
        "        nuevo_nombre = input(\"Ingrese nuevo nombre: \")\n",
        "        nuevo_apellido = input(\"Ingrese nuevo apellido: \")\n",
        "        nuevo_DNI = validar_dni()\n",
        "        editar_cliente(id_busqueda,nuevo_nombre,nuevo_apellido,nuevo_DNI,)\n",
        "        main_menu()\n",
        "    elif choice == 8:\n",
        "        listar_clientes()\n",
        "        borrar_registro_clientes()\n",
        "    elif choice == 9:\n",
        "        eliminar_archivo(\"productos.txt\")\n",
        "    elif choice == 10:\n",
        "        eliminar_archivo(\"clientes.txt\")    \n",
        "    else:\n",
        "        print(\"Opción no válida\")\n"
      ]
    },
    {
      "cell_type": "code",
      "execution_count": null,
      "metadata": {
        "id": "pPFMuktdOwUu"
      },
      "outputs": [],
      "source": [
        "main_menu()"
      ]
    }
  ],
  "metadata": {
    "colab": {
      "authorship_tag": "ABX9TyPGIlsz/xxwlSGYDDmgQwcO",
      "include_colab_link": true,
      "provenance": []
    },
    "kernelspec": {
      "display_name": "Python 3",
      "name": "python3"
    },
    "language_info": {
      "codemirror_mode": {
        "name": "ipython",
        "version": 3
      },
      "file_extension": ".py",
      "mimetype": "text/x-python",
      "name": "python",
      "nbconvert_exporter": "python",
      "pygments_lexer": "ipython3",
      "version": "3.8.8"
    }
  },
  "nbformat": 4,
  "nbformat_minor": 0
}
